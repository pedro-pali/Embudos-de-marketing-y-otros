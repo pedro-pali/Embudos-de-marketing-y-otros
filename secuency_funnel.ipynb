{
 "cells": [
  {
   "cell_type": "markdown",
   "id": "37fa85ae",
   "metadata": {},
   "source": [
    "Importamos librerias y base de datos a trabajar"
   ]
  },
  {
   "cell_type": "code",
   "execution_count": 2,
   "id": "e7746efd",
   "metadata": {},
   "outputs": [],
   "source": [
    "import pandas as pd\n",
    "\n",
    "events = pd.read_csv('events.csv')"
   ]
  },
  {
   "cell_type": "markdown",
   "id": "87d8049e",
   "metadata": {},
   "source": [
    "Creamos la tabla pivote para poder trabajar en ella"
   ]
  },
  {
   "cell_type": "code",
   "execution_count": 3,
   "id": "8d348385",
   "metadata": {},
   "outputs": [],
   "source": [
    "users = events.pivot_table(\n",
    "    index='uid', \n",
    "    columns='event_name', \n",
    "    values='event_time',\n",
    "    aggfunc='min')"
   ]
  },
  {
   "cell_type": "markdown",
   "id": "2219ea20",
   "metadata": {},
   "source": [
    "Confirmamos paso por paso de cada parte del embudo"
   ]
  },
  {
   "cell_type": "code",
   "execution_count": 4,
   "id": "e927adf4",
   "metadata": {},
   "outputs": [],
   "source": [
    "step_1 = ~users['pageview'].isna() \n",
    "step_2 = step_1 & (users['add_to_cart'] > users['pageview']) \n",
    "step_3 = step_2 & (users['checkout'] > users['add_to_cart'])\n",
    "step_4 = step_3 & (users['payment'] > users['checkout'])"
   ]
  },
  {
   "cell_type": "markdown",
   "id": "6cc53566",
   "metadata": {},
   "source": [
    "Contamos los ususarios que completaron cada paso"
   ]
  },
  {
   "cell_type": "code",
   "execution_count": 5,
   "id": "3aecbba7",
   "metadata": {},
   "outputs": [],
   "source": [
    "n_pageview = users[step_1].shape[0] \n",
    "n_add_to_cart = users[step_2].shape[0] \n",
    "n_checkout = users[step_3].shape[0]\n",
    "n_payment = users[step_4].shape[0]"
   ]
  },
  {
   "cell_type": "markdown",
   "id": "e1debda5",
   "metadata": {},
   "source": [
    "Imprimimos los resultados"
   ]
  },
  {
   "cell_type": "code",
   "execution_count": 6,
   "id": "2f1bb6a8",
   "metadata": {},
   "outputs": [
    {
     "name": "stdout",
     "output_type": "stream",
     "text": [
      "Visitantes: 8831\n",
      "Se agregó un producto al carrito: 2584\n",
      "Pago iniciado: 354\n",
      "Pagado: 28\n"
     ]
    }
   ],
   "source": [
    "print('Visitantes:', n_pageview)\n",
    "print('Se agregó un producto al carrito:', n_add_to_cart)\n",
    "print('Pago iniciado:', n_checkout)\n",
    "print('Pagado:', n_payment)"
   ]
  },
  {
   "cell_type": "markdown",
   "id": "bda18eec",
   "metadata": {},
   "source": [
    "## Conclusión \n",
    "Fueron 8831 usuarios los que visitaron la página de compras ya sea través de un banner, correo electrónico o recomendación,\n",
    "- de los cuales 2584 les interesó algún producto y lo agregaron a su carrito,\n",
    "- 354 procedieron a la página de pago \n",
    "- y solo 28 de ellos realizaron la compra, (debe de ser porque al momento del pago se muestra el costo del envío y muchos ahí se quedan)"
   ]
  }
 ],
 "metadata": {
  "kernelspec": {
   "display_name": "base",
   "language": "python",
   "name": "python3"
  },
  "language_info": {
   "codemirror_mode": {
    "name": "ipython",
    "version": 3
   },
   "file_extension": ".py",
   "mimetype": "text/x-python",
   "name": "python",
   "nbconvert_exporter": "python",
   "pygments_lexer": "ipython3",
   "version": "3.13.5"
  }
 },
 "nbformat": 4,
 "nbformat_minor": 5
}
